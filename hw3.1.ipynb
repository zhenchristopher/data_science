{
 "cells": [
  {
   "cell_type": "markdown",
   "metadata": {},
   "source": [
    "# Attributions\n",
    "\n",
    "**Chris:** Checked over final answer\n",
    "\n",
    "**Naveen:** Checked over final answer\n",
    "\n",
    "**Emily:** Bulk of question"
   ]
  },
  {
   "cell_type": "markdown",
   "metadata": {},
   "source": [
    "Given two papers, one reporting $\\mu_1 \\pm \\sigma_1$ and the other reporting $\\mu_2 \\pm \\sigma_2$, we can tell from the paramters given and the fact that the standard deviation is reported as \"$\\pm$\"  that we are working with a symmetric, Gaussian/Normal distribution. \n",
    "\n",
    "Something we don't know about the two sets of data we have are how many observations were used in each one to produce the respective $\\mu$ and $\\sigma$. More specifically, because we don't know that the two means are equally weighted in representation, we cannot just add the means and divide by two. Instead, we want to consider the probability of $\\mu, \\sigma$ being the true values given data of $\\mu_1, \\sigma_1, \\mu_2, \\sigma_2$, and use Bayes's theorem to dissect it further.\n",
    "\n",
    "\\begin{align}\n",
    "P(\\mu, \\sigma \\mid \\mu_1, \\sigma_1, \\mu_2, \\sigma_2) & = \\frac{P(\\mu_1, \\sigma_1, \\mu_2, \\sigma_2 \\mid \\mu, \\sigma) \\, P(\\mu, \\sigma)}{P(\\mu_1, \\sigma_1, \\mu_2, \\sigma_2)} \n",
    "\\end{align}\n",
    "\n",
    "Our likelihood is $P(\\mu_1, \\sigma_1, \\mu_2, \\sigma_2 \\mid \\mu, \\sigma)$, or the probability of obatining our collected data given the hypothesized true values of $\\mu, \\sigma$.\n",
    "\n",
    "Our prior is $P(\\mu, \\sigma)$, or the probability of the hypothesis of the true values of $\\mu, \\sigma$ given the information we had before (which was nothing), hence no \"given\" within the probability expression.\n",
    "\n",
    "Our evidence is $P(\\mu_1, \\sigma_1, \\mu_2, \\sigma_2)$, aka our data.\n",
    "\n",
    "Investigating our likelihood expression further, we see that it essentially describes the probability of $\\mu_1, \\sigma_1$ given $\\mu, \\sigma$, AND the probability of $\\mu_2, \\sigma_2$ given $\\mu, \\sigma$ both happening. Because the two experiments are independent, we can multiply those probabilities together to get the overall probability. We can think of this like multiplying the two probability density functions together.\n",
    "\n",
    "\\begin{align}\n",
    "P(\\mu_1, \\sigma_1, \\mu_2, \\sigma_2 \\mid \\mu, \\sigma) = P(x \\mid \\mu_1, \\sigma_1)\\, P(x \\mid \\mu_2, \\sigma_2)\n",
    "\\end{align}\n",
    "\n",
    "We can express the PDF of each Gaussian as\n",
    "\n",
    "\\begin{align}\n",
    "\\frac{1}{\\sqrt{2 \\pi \\sigma}} \\text{exp} \\bigg[\\frac{-(x-\\mu)^2}{2 \\sigma^2}\\bigg]\n",
    "\\end{align}\n",
    "\n",
    "Then,\n",
    "\n",
    "\\begin{align}\n",
    "P(\\mu_1, \\sigma_1, \\mu_2, \\sigma_2 \\mid \\mu, \\sigma) &= \\frac{1}{\\sqrt{2 \\pi \\sigma_1}} \\text{exp} \\bigg[\\frac{-(x-\\mu_1)^2}{2 \\sigma_1^2}\\bigg] \\cdot \\frac{1}{\\sqrt{2 \\pi \\sigma_2}} \\text{exp} \\bigg[\\frac{-(x-\\mu_2)^2}{2 \\sigma_2^2}\\bigg] \\\\\n",
    "&= \\frac{1}{2 \\pi \\sqrt{\\sigma_1 \\sigma_2}} \\text{exp} \\bigg[\\frac{-(x-\\mu_1)^2}{2 \\sigma_1^2} \\cdot \\frac{-(x-\\mu_2)^2}{2 \\sigma_2^2} \\bigg] \\\\\n",
    "&= \\frac{1}{2 \\pi \\sqrt{\\sigma_1 \\sigma_2}} \\text{exp} \\bigg[\\frac{-\\sigma_2^2 (x^2-2 \\mu_1 x + \\mu_1^2) -\\sigma_1^2(x^2-2 \\mu_2 x + \\mu_2^2)}{2 \\sigma_1^2 \\sigma_2^2}\\bigg] \\\\\n",
    "&= \\frac{1}{2 \\pi \\sqrt{\\sigma_1 \\sigma_2}} \\text{exp} \\bigg[\\frac{-(\\sigma_1^2+\\sigma_2^2)x^2 + (2\\mu_1\\sigma_2^2+2\\mu_2\\sigma_1^2)x - (\\mu_1^2\\sigma_2^2+\\mu_2^2\\sigma_1^2)}{2 \\sigma_1^2 \\sigma_2^2} \\bigg]\n",
    "\\end{align}\n",
    "\n",
    "In order to change this monstrous expression into something we're familiar with to extract $\\mu$ and $\\sigma$, we have to complete the square. \n",
    "\n",
    "\\begin{align}\n",
    "a = \\frac{-(\\sigma_1^2+\\sigma_2^2)}{2 \\sigma_1^2 \\sigma_2^2} \\\\\n",
    "b = \\frac{2\\mu_1\\sigma_2^2+2\\mu_2\\sigma_1^2}{2 \\sigma_1^2 \\sigma_2^2} \\\\\n",
    "c = \\frac{- (\\mu_1^2\\sigma_2^2+\\mu_2^2\\sigma_1^2)}{2 \\sigma_1^2 \\sigma_2^2} \\\\\n",
    "\\end{align}\n",
    "\n",
    "\\begin{align}\n",
    "P(\\mu_1, \\sigma_1, \\mu_2, \\sigma_2 \\mid \\mu, \\sigma) &= \\frac{1}{2 \\pi \\sqrt{\\sigma_1 \\sigma_2}} \\text{exp} \\bigg[ ax^2 + bx + c \\bigg]\n",
    "\\end{align}\n",
    "\n",
    "So we're going to have to pretend to divide through the expresison by $a$, then multiply it back at the end, the same way we'd do complete the square with an equality.\n",
    "\n",
    "\\begin{align}\n",
    "P(\\mu_1, \\sigma_1, \\mu_2, \\sigma_2 \\mid \\mu, \\sigma)&= \\frac{1}{2 \\pi \\sqrt{\\sigma_1 \\sigma_2}} \\text{exp} \\bigg[x^2 + \\frac{b}{a}x + \\frac{c}{a} \\bigg] \\\\\n",
    "&= \\frac{1}{2 \\pi \\sqrt{\\sigma_1 \\sigma_2}} \\text{exp} \\bigg[x^2 + \\frac{b}{a}x + \\bigg(\\frac{b}{2a}\\bigg)^2 + \\frac{c}{a} - \\bigg(\\frac{b}{2a}\\bigg)^2 \\bigg] \\\\\n",
    "&= \\frac{1}{2 \\pi \\sqrt{\\sigma_1 \\sigma_2}} \\text{exp} \\bigg[ (x+ \\frac{b}{2a})^2 + \\frac{c}{a} - \\bigg(\\frac{b}{2a}\\bigg)^2\\bigg] \\\\\n",
    "&= \\frac{1}{2 \\pi \\sqrt{\\sigma_1 \\sigma_2}} \\text{exp} \\bigg[ a(x+ \\frac{b}{2a})^2 + c - a\\bigg(\\frac{b}{2a}\\bigg)^2\\bigg] \n",
    "\\end{align}\n",
    "\n",
    "We now want to compare this expression with the one for the PDF of the Guassian. We can see that the $\\text{exp} \\bigg[c - a\\bigg(\\frac{b}{2a}\\bigg)^2\\bigg]$ would effectively be a constant in front of the exponential if calculated out numerically, so we're left with $\\text{exp} \\bigg[ a(x+ \\frac{b}{2a})^2 \\bigg]$. Then, we can find the mean and error bar (std. dev.):\n",
    "\n",
    "$$ a = -\\frac{1}{2\\sigma^2} = \\frac{-(\\sigma_1^2+\\sigma_2^2)}{2 \\sigma_1^2 \\sigma_2^2} \\rightarrow \\sigma = \\frac{\\sigma_1 \\sigma_2}{\\sqrt{\\sigma_1^2 + \\sigma_2^2}} \\\\\n",
    "\\frac{b}{2a} = -\\mu = \\frac{2\\mu_1\\sigma_2^2+2\\mu_2\\sigma_1^2}{-2(\\sigma_1^2+\\sigma_2^2)} \\rightarrow  \\mu = \\frac{\\mu_1\\sigma_2^2+\\mu_2\\sigma_1^2}{(\\sigma_1^2+\\sigma_2^2)}\n",
    "$$\n"
   ]
  },
  {
   "cell_type": "markdown",
   "metadata": {},
   "source": [
    "<div class=\"alert alert-info\"> For the likelihood: 3/3 </div>\n",
    "<div class=\"alert alert-info\"> For the prior: 1/1 </div>\n",
    "<div class=\"alert alert-info\"> For recognizing the posterior is Gaussian: 2/2 </div>\n",
    "<div class=\"alert alert-info\"> For the mean: 2/2 </div>\n",
    "<div class=\"alert alert-info\"> For the variance: 2/2 </div>\n",
    "<div class=\"alert alert-info\"> Total: 10/10  \n",
    "Great job! A lot of groups struggled on this problem.</div>"
   ]
  }
 ],
 "metadata": {
  "kernelspec": {
   "display_name": "Python 3",
   "language": "python",
   "name": "python3"
  },
  "language_info": {
   "codemirror_mode": {
    "name": "ipython",
    "version": 3
   },
   "file_extension": ".py",
   "mimetype": "text/x-python",
   "name": "python",
   "nbconvert_exporter": "python",
   "pygments_lexer": "ipython3",
   "version": "3.6.2"
  }
 },
 "nbformat": 4,
 "nbformat_minor": 2
}
