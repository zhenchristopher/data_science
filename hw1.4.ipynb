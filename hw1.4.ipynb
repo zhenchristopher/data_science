{
 "cells": [
  {
   "cell_type": "markdown",
   "metadata": {},
   "source": [
    "## Attributions\n",
    "\n",
    "**Emily**: All parts."
   ]
  },
  {
   "cell_type": "markdown",
   "metadata": {},
   "source": [
    "**a)** Marginalization is the process of eliminating a variable from a probability by summing (for discrete variables) or integrating (for continuous parameters). "
   ]
  },
  {
   "cell_type": "markdown",
   "metadata": {},
   "source": [
    "<div class=\"alert alert-info\">\n",
    "**(a)** 10/10\n",
    "</div>"
   ]
  },
  {
   "cell_type": "markdown",
   "metadata": {
    "collapsed": true
   },
   "source": [
    "**b)** Given a statistical model that has two continuous parameters, $\\theta = (\\theta_1, \\theta_2)$, Bayes's theorem allows us to state\n",
    "\n",
    "\\begin{align}\n",
    "P(\\theta_1, \\theta_2 \\mid D, I) = \\frac{P(D\\mid \\theta_1, \\theta_2, I)\\,P(\\theta_1, \\theta_2 \\mid I)}{P(D\\mid I)}\n",
    "\\end{align}\n",
    "\n",
    "In order to get an expression for $P(\\theta_1 \\mid D, I)$, we want to eliminate the variable $\\theta_2$. We can do this by marginalization. We know that integrating the above equation on both sides with respect to $\\theta_2$ will eliminate that variable, yielding the desired expression. (We are choosing to integrate rather than sum the expression because we're told that $\\theta_1$ and $\\theta_2$ are continuous, not discrete, paramters.)\n",
    "\n",
    "\\begin{align}\n",
    "\\int P(\\theta_1, \\theta_2 \\mid D, I)\\, \\mathrm{d}\\theta_2 = \\int \\frac{P(D\\mid \\theta_1, \\theta_2, I)\\,P(\\theta_1, \\theta_2 \\mid I)}{P(D\\mid I)} \\, \\mathrm{d}\\theta_2 \\\\[1em]\n",
    "\\end{align}\n",
    "\n",
    "We know the LHS of this equation is equivalent to $P(\\theta_1 \\mid D, I)$\n",
    "\n",
    "\\begin{align}\n",
    "\\int P(\\theta_1, \\theta_2 \\mid D, I)\\, \\mathrm{d}\\theta_2 = P(\\theta_1 \\mid D, I)\n",
    "\\end{align}\n",
    "\n",
    "Then, we can simplify the integral on the RHS of the equation by pulling out a $\\frac{1}{P(D\\mid I)}$ since it is not dependent on $\\theta_2$ and therefore a constant in the integral expression, yielding\n",
    "\n",
    "\\begin{align}\n",
    "P(\\theta_1 \\mid D, I) = \\frac{1}{P(D\\mid I)} \\int P(D\\mid \\theta_1, \\theta_2, I)\\,P(\\theta_1, \\theta_2 \\mid I)\\, \\mathrm{d}\\theta_2 \\\\[1em]\n",
    "\\end{align}\n",
    "\n",
    "which is an expression for $P(\\theta_1 \\mid D, I)$ using only terms from the RHS of the initial equation stated using Bayes's theorem."
   ]
  },
  {
   "cell_type": "markdown",
   "metadata": {},
   "source": [
    "<div class=\"alert alert-info\">\n",
    "**(b)** 10/10  \n",
    "Excellent work!\n",
    "</div>"
   ]
  },
  {
   "cell_type": "markdown",
   "metadata": {},
   "source": [
    "<div class=\"alert alert-info\">\n",
    "Total: 20/20\n",
    "</div>"
   ]
  }
 ],
 "metadata": {
  "kernelspec": {
   "display_name": "Python 3",
   "language": "python",
   "name": "python3"
  },
  "language_info": {
   "codemirror_mode": {
    "name": "ipython",
    "version": 3
   },
   "file_extension": ".py",
   "mimetype": "text/x-python",
   "name": "python",
   "nbconvert_exporter": "python",
   "pygments_lexer": "ipython3",
   "version": "3.6.1"
  }
 },
 "nbformat": 4,
 "nbformat_minor": 2
}
