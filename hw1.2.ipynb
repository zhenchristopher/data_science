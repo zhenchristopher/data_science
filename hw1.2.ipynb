{
 "cells": [
  {
   "cell_type": "markdown",
   "metadata": {},
   "source": [
    "# Goals for the Class"
   ]
  },
  {
   "cell_type": "markdown",
   "metadata": {},
   "source": [
    "Chris Z: Learn techniques in data science that will help me either in my future research, or find a job as a data scientist. In particular, I'm incredibly interested in learning both image analysis and how to build projection models from data such as those on fivethirtyeight."
   ]
  },
  {
   "cell_type": "markdown",
   "metadata": {},
   "source": [
    "Emily: I'd like to gain a better understanding of what this seemingly vague term \"data science\" means...I suppose it encompasses a wide variety of skills that can be used in many fields, which is maybe why I have been unable to grasp exactly what is. I hope that the techniques I learn in this class will help me in my future research in graduate school and also in industry work. There's nothing in particular I know I want to learn, but I do want to finally understand what those terms \"Bayesian statistics\" and \"Markov chains\" mean that I've heard being tossed around in my years at this school. Also, what does \"statistically significant\" REALLY mean? Since I haven't had a formal statistics class before, I want exposure to as many aspects of the field as possible. Taking ChE130 (biomolecular engineering lab) was frustrating without prior knowledge of statistics, as there was no formal training in that class on how to actually analyze the data from our independent projects, so I'm taking this class to remedy that. I definitely wish I had taken this class before 130!"
   ]
  },
  {
   "cell_type": "markdown",
   "metadata": {
    "collapsed": true
   },
   "source": [
    "Naveen: I hope to gain insight into data science techniques and learn to use data analysis tools. I am especially interested in visualization. After finishing the course, I want to apply what I've learned to my own research and create awesome figures for reports, etc.!"
   ]
  },
  {
   "cell_type": "markdown",
   "metadata": {},
   "source": [
    "<div class=\"alert alert-success\">\n",
    "I think you'll get an understanding of those words that are batted around. Regarding what \"data science\" is, good question! If you want to talk about that, feel free to ask me and/or come to my office hours.\n",
    "\n",
    "<br /> <br />\n",
    "Thank you for your comments! 20/20 --JB\n",
    "</div>"
   ]
  }
 ],
 "metadata": {
  "kernelspec": {
   "display_name": "Python 3",
   "language": "python",
   "name": "python3"
  },
  "language_info": {
   "codemirror_mode": {
    "name": "ipython",
    "version": 3
   },
   "file_extension": ".py",
   "mimetype": "text/x-python",
   "name": "python",
   "nbconvert_exporter": "python",
   "pygments_lexer": "ipython3",
   "version": "3.6.2"
  }
 },
 "nbformat": 4,
 "nbformat_minor": 2
}
